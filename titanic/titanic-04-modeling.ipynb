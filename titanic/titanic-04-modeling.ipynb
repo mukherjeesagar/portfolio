{
 "cells": [
  {
   "cell_type": "markdown",
   "metadata": {},
   "source": [
    "# Modeling\n",
    "\n",
    "26/05/2018\n",
    "\n",
    "Modeling - build classification models\n",
    "\n",
    "__Contents:__\n",
    "\n",
    "1. Preparation\n",
    "2. Building benchmark models\n",
    "3. Model development\n",
    "    * Logistic Regression\n",
    "    * Random Forest\n",
    "4. Hyperparameter Optimization"
   ]
  },
  {
   "cell_type": "code",
   "execution_count": 1,
   "metadata": {},
   "outputs": [
    {
     "data": {
      "text/html": [
       "<div>\n",
       "<style>\n",
       "    .dataframe thead tr:only-child th {\n",
       "        text-align: right;\n",
       "    }\n",
       "\n",
       "    .dataframe thead th {\n",
       "        text-align: left;\n",
       "    }\n",
       "\n",
       "    .dataframe tbody tr th {\n",
       "        vertical-align: top;\n",
       "    }\n",
       "</style>\n",
       "<table border=\"1\" class=\"dataframe\">\n",
       "  <thead>\n",
       "    <tr style=\"text-align: right;\">\n",
       "      <th></th>\n",
       "      <th>Unnamed: 0</th>\n",
       "      <th>Survived</th>\n",
       "      <th>Pclass</th>\n",
       "      <th>Sex</th>\n",
       "      <th>Age</th>\n",
       "      <th>SibSp</th>\n",
       "      <th>Parch</th>\n",
       "      <th>Fare</th>\n",
       "      <th>Embarked</th>\n",
       "      <th>Surname</th>\n",
       "      <th>Title</th>\n",
       "      <th>Fancy_title</th>\n",
       "      <th>U15_many_siblings</th>\n",
       "      <th>alone</th>\n",
       "      <th>is_male</th>\n",
       "      <th>Embarked_codes</th>\n",
       "      <th>is_master</th>\n",
       "      <th>is_mr</th>\n",
       "      <th>cat_age</th>\n",
       "    </tr>\n",
       "    <tr>\n",
       "      <th>PassengerId</th>\n",
       "      <th></th>\n",
       "      <th></th>\n",
       "      <th></th>\n",
       "      <th></th>\n",
       "      <th></th>\n",
       "      <th></th>\n",
       "      <th></th>\n",
       "      <th></th>\n",
       "      <th></th>\n",
       "      <th></th>\n",
       "      <th></th>\n",
       "      <th></th>\n",
       "      <th></th>\n",
       "      <th></th>\n",
       "      <th></th>\n",
       "      <th></th>\n",
       "      <th></th>\n",
       "      <th></th>\n",
       "      <th></th>\n",
       "    </tr>\n",
       "  </thead>\n",
       "  <tbody>\n",
       "    <tr>\n",
       "      <th>1</th>\n",
       "      <td>0</td>\n",
       "      <td>0</td>\n",
       "      <td>3</td>\n",
       "      <td>male</td>\n",
       "      <td>22.0</td>\n",
       "      <td>1</td>\n",
       "      <td>0</td>\n",
       "      <td>7.2500</td>\n",
       "      <td>S</td>\n",
       "      <td>Braund</td>\n",
       "      <td>Mr</td>\n",
       "      <td>False</td>\n",
       "      <td>False</td>\n",
       "      <td>False</td>\n",
       "      <td>True</td>\n",
       "      <td>2</td>\n",
       "      <td>False</td>\n",
       "      <td>True</td>\n",
       "      <td>2</td>\n",
       "    </tr>\n",
       "    <tr>\n",
       "      <th>2</th>\n",
       "      <td>1</td>\n",
       "      <td>1</td>\n",
       "      <td>1</td>\n",
       "      <td>female</td>\n",
       "      <td>38.0</td>\n",
       "      <td>1</td>\n",
       "      <td>0</td>\n",
       "      <td>71.2833</td>\n",
       "      <td>C</td>\n",
       "      <td>Cumings</td>\n",
       "      <td>Mrs</td>\n",
       "      <td>False</td>\n",
       "      <td>False</td>\n",
       "      <td>False</td>\n",
       "      <td>False</td>\n",
       "      <td>0</td>\n",
       "      <td>False</td>\n",
       "      <td>False</td>\n",
       "      <td>3</td>\n",
       "    </tr>\n",
       "    <tr>\n",
       "      <th>3</th>\n",
       "      <td>2</td>\n",
       "      <td>1</td>\n",
       "      <td>3</td>\n",
       "      <td>female</td>\n",
       "      <td>26.0</td>\n",
       "      <td>0</td>\n",
       "      <td>0</td>\n",
       "      <td>7.9250</td>\n",
       "      <td>S</td>\n",
       "      <td>Heikkinen</td>\n",
       "      <td>Miss</td>\n",
       "      <td>False</td>\n",
       "      <td>False</td>\n",
       "      <td>True</td>\n",
       "      <td>False</td>\n",
       "      <td>2</td>\n",
       "      <td>False</td>\n",
       "      <td>False</td>\n",
       "      <td>2</td>\n",
       "    </tr>\n",
       "    <tr>\n",
       "      <th>4</th>\n",
       "      <td>3</td>\n",
       "      <td>1</td>\n",
       "      <td>1</td>\n",
       "      <td>female</td>\n",
       "      <td>35.0</td>\n",
       "      <td>1</td>\n",
       "      <td>0</td>\n",
       "      <td>53.1000</td>\n",
       "      <td>S</td>\n",
       "      <td>Futrelle</td>\n",
       "      <td>Mrs</td>\n",
       "      <td>False</td>\n",
       "      <td>False</td>\n",
       "      <td>False</td>\n",
       "      <td>False</td>\n",
       "      <td>2</td>\n",
       "      <td>False</td>\n",
       "      <td>False</td>\n",
       "      <td>3</td>\n",
       "    </tr>\n",
       "    <tr>\n",
       "      <th>5</th>\n",
       "      <td>4</td>\n",
       "      <td>0</td>\n",
       "      <td>3</td>\n",
       "      <td>male</td>\n",
       "      <td>35.0</td>\n",
       "      <td>0</td>\n",
       "      <td>0</td>\n",
       "      <td>8.0500</td>\n",
       "      <td>S</td>\n",
       "      <td>Allen</td>\n",
       "      <td>Mr</td>\n",
       "      <td>False</td>\n",
       "      <td>False</td>\n",
       "      <td>True</td>\n",
       "      <td>True</td>\n",
       "      <td>2</td>\n",
       "      <td>False</td>\n",
       "      <td>True</td>\n",
       "      <td>3</td>\n",
       "    </tr>\n",
       "  </tbody>\n",
       "</table>\n",
       "</div>"
      ],
      "text/plain": [
       "             Unnamed: 0  Survived  Pclass     Sex   Age  SibSp  Parch  \\\n",
       "PassengerId                                                             \n",
       "1                     0         0       3    male  22.0      1      0   \n",
       "2                     1         1       1  female  38.0      1      0   \n",
       "3                     2         1       3  female  26.0      0      0   \n",
       "4                     3         1       1  female  35.0      1      0   \n",
       "5                     4         0       3    male  35.0      0      0   \n",
       "\n",
       "                Fare Embarked    Surname Title  Fancy_title  \\\n",
       "PassengerId                                                   \n",
       "1             7.2500        S     Braund    Mr        False   \n",
       "2            71.2833        C    Cumings   Mrs        False   \n",
       "3             7.9250        S  Heikkinen  Miss        False   \n",
       "4            53.1000        S   Futrelle   Mrs        False   \n",
       "5             8.0500        S      Allen    Mr        False   \n",
       "\n",
       "             U15_many_siblings  alone  is_male  Embarked_codes  is_master  \\\n",
       "PassengerId                                                                 \n",
       "1                        False  False     True               2      False   \n",
       "2                        False  False    False               0      False   \n",
       "3                        False   True    False               2      False   \n",
       "4                        False  False    False               2      False   \n",
       "5                        False   True     True               2      False   \n",
       "\n",
       "             is_mr  cat_age  \n",
       "PassengerId                  \n",
       "1             True        2  \n",
       "2            False        3  \n",
       "3            False        2  \n",
       "4            False        3  \n",
       "5             True        3  "
      ]
     },
     "execution_count": 1,
     "metadata": {},
     "output_type": "execute_result"
    }
   ],
   "source": [
    "%matplotlib inline\n",
    "\n",
    "import matplotlib.pyplot as plt\n",
    "import numpy as np\n",
    "import pandas as pd\n",
    "import seaborn as sns\n",
    "from sklearn.model_selection import cross_val_score, GridSearchCV, train_test_split\n",
    "from sklearn.metrics import accuracy_score\n",
    "\n",
    "sns.set_style('white')\n",
    "sns.set_context(\"poster\")\n",
    "\n",
    "dfo = pd.read_csv('./data/train-03-cfe.csv').set_index('PassengerId')\n",
    "dfo.head()"
   ]
  },
  {
   "cell_type": "code",
   "execution_count": 2,
   "metadata": {},
   "outputs": [
    {
     "data": {
      "text/html": [
       "<div>\n",
       "<style>\n",
       "    .dataframe thead tr:only-child th {\n",
       "        text-align: right;\n",
       "    }\n",
       "\n",
       "    .dataframe thead th {\n",
       "        text-align: left;\n",
       "    }\n",
       "\n",
       "    .dataframe tbody tr th {\n",
       "        vertical-align: top;\n",
       "    }\n",
       "</style>\n",
       "<table border=\"1\" class=\"dataframe\">\n",
       "  <thead>\n",
       "    <tr style=\"text-align: right;\">\n",
       "      <th></th>\n",
       "      <th>Survived</th>\n",
       "      <th>Pclass</th>\n",
       "      <th>SibSp</th>\n",
       "      <th>Parch</th>\n",
       "      <th>Fare</th>\n",
       "      <th>Fancy_title</th>\n",
       "      <th>U15_many_siblings</th>\n",
       "      <th>alone</th>\n",
       "      <th>is_male</th>\n",
       "      <th>Embarked_codes</th>\n",
       "      <th>is_master</th>\n",
       "      <th>is_mr</th>\n",
       "      <th>cat_age</th>\n",
       "    </tr>\n",
       "    <tr>\n",
       "      <th>PassengerId</th>\n",
       "      <th></th>\n",
       "      <th></th>\n",
       "      <th></th>\n",
       "      <th></th>\n",
       "      <th></th>\n",
       "      <th></th>\n",
       "      <th></th>\n",
       "      <th></th>\n",
       "      <th></th>\n",
       "      <th></th>\n",
       "      <th></th>\n",
       "      <th></th>\n",
       "      <th></th>\n",
       "    </tr>\n",
       "  </thead>\n",
       "  <tbody>\n",
       "    <tr>\n",
       "      <th>1</th>\n",
       "      <td>0</td>\n",
       "      <td>3</td>\n",
       "      <td>1</td>\n",
       "      <td>0</td>\n",
       "      <td>7.2500</td>\n",
       "      <td>False</td>\n",
       "      <td>False</td>\n",
       "      <td>False</td>\n",
       "      <td>True</td>\n",
       "      <td>2</td>\n",
       "      <td>False</td>\n",
       "      <td>True</td>\n",
       "      <td>2</td>\n",
       "    </tr>\n",
       "    <tr>\n",
       "      <th>2</th>\n",
       "      <td>1</td>\n",
       "      <td>1</td>\n",
       "      <td>1</td>\n",
       "      <td>0</td>\n",
       "      <td>71.2833</td>\n",
       "      <td>False</td>\n",
       "      <td>False</td>\n",
       "      <td>False</td>\n",
       "      <td>False</td>\n",
       "      <td>0</td>\n",
       "      <td>False</td>\n",
       "      <td>False</td>\n",
       "      <td>3</td>\n",
       "    </tr>\n",
       "    <tr>\n",
       "      <th>3</th>\n",
       "      <td>1</td>\n",
       "      <td>3</td>\n",
       "      <td>0</td>\n",
       "      <td>0</td>\n",
       "      <td>7.9250</td>\n",
       "      <td>False</td>\n",
       "      <td>False</td>\n",
       "      <td>True</td>\n",
       "      <td>False</td>\n",
       "      <td>2</td>\n",
       "      <td>False</td>\n",
       "      <td>False</td>\n",
       "      <td>2</td>\n",
       "    </tr>\n",
       "    <tr>\n",
       "      <th>4</th>\n",
       "      <td>1</td>\n",
       "      <td>1</td>\n",
       "      <td>1</td>\n",
       "      <td>0</td>\n",
       "      <td>53.1000</td>\n",
       "      <td>False</td>\n",
       "      <td>False</td>\n",
       "      <td>False</td>\n",
       "      <td>False</td>\n",
       "      <td>2</td>\n",
       "      <td>False</td>\n",
       "      <td>False</td>\n",
       "      <td>3</td>\n",
       "    </tr>\n",
       "    <tr>\n",
       "      <th>5</th>\n",
       "      <td>0</td>\n",
       "      <td>3</td>\n",
       "      <td>0</td>\n",
       "      <td>0</td>\n",
       "      <td>8.0500</td>\n",
       "      <td>False</td>\n",
       "      <td>False</td>\n",
       "      <td>True</td>\n",
       "      <td>True</td>\n",
       "      <td>2</td>\n",
       "      <td>False</td>\n",
       "      <td>True</td>\n",
       "      <td>3</td>\n",
       "    </tr>\n",
       "  </tbody>\n",
       "</table>\n",
       "</div>"
      ],
      "text/plain": [
       "             Survived  Pclass  SibSp  Parch     Fare  Fancy_title  \\\n",
       "PassengerId                                                         \n",
       "1                   0       3      1      0   7.2500        False   \n",
       "2                   1       1      1      0  71.2833        False   \n",
       "3                   1       3      0      0   7.9250        False   \n",
       "4                   1       1      1      0  53.1000        False   \n",
       "5                   0       3      0      0   8.0500        False   \n",
       "\n",
       "             U15_many_siblings  alone  is_male  Embarked_codes  is_master  \\\n",
       "PassengerId                                                                 \n",
       "1                        False  False     True               2      False   \n",
       "2                        False  False    False               0      False   \n",
       "3                        False   True    False               2      False   \n",
       "4                        False  False    False               2      False   \n",
       "5                        False   True     True               2      False   \n",
       "\n",
       "             is_mr  cat_age  \n",
       "PassengerId                  \n",
       "1             True        2  \n",
       "2            False        3  \n",
       "3            False        2  \n",
       "4            False        3  \n",
       "5             True        3  "
      ]
     },
     "execution_count": 2,
     "metadata": {},
     "output_type": "execute_result"
    }
   ],
   "source": [
    "# drop repeated columns\n",
    "cols = ['Unnamed: 0', 'Age', 'Sex', 'Embarked', 'Title', 'Surname']\n",
    "df = dfo.drop(cols, axis=1)\n",
    "df.head()"
   ]
  },
  {
   "cell_type": "markdown",
   "metadata": {},
   "source": [
    "## Benchmark Models\n",
    "\n",
    "Build the following simple benchmark models so that we can assess the efficiency of more complex models:\n",
    "\n",
    "1. All female will survive\n",
    "2. All feamle OR age <= 5 will survive\n",
    "3. All feamle OR age <= 15 will survive"
   ]
  },
  {
   "cell_type": "code",
   "execution_count": 3,
   "metadata": {},
   "outputs": [
    {
     "name": "stdout",
     "output_type": "stream",
     "text": [
      "Benchmark Accuracy -- All female survived: 0.787\n"
     ]
    }
   ],
   "source": [
    "# note: numpy vectorization is faster then pandas looping and vectorization\n",
    "y_true = df.Survived.values\n",
    "is_male = df.is_male.values\n",
    "bench_female = (is_male == False).astype(int)\n",
    "bench_female_score = accuracy_score(y_true, bench_female)\n",
    "print('Benchmark Accuracy -- All female survived: {:.3f}'.format(bench_female_score))"
   ]
  },
  {
   "cell_type": "code",
   "execution_count": 4,
   "metadata": {},
   "outputs": [
    {
     "name": "stdout",
     "output_type": "stream",
     "text": [
      "Benchmark Accuracy -- All female OR age <= 5 survived: 0.795\n"
     ]
    }
   ],
   "source": [
    "ca_0 = (df.cat_age.values == 0).astype(int)\n",
    "bench_female_ca0 = (bench_female | ca_0)\n",
    "bench_female_ca0_score = accuracy_score(y_true, bench_female_ca0)\n",
    "print('Benchmark Accuracy -- All female OR age <= 5 survived: {:.3f}'.format(bench_female_ca0_score))"
   ]
  },
  {
   "cell_type": "code",
   "execution_count": 5,
   "metadata": {},
   "outputs": [
    {
     "name": "stdout",
     "output_type": "stream",
     "text": [
      "Benchmark Accuracy -- All female OR age <= 15 survived: 0.789\n"
     ]
    }
   ],
   "source": [
    "ca_1 = (df.cat_age.values == 1).astype(int)\n",
    "bench_female_ca01 = (bench_female_ca0 | ca_1)\n",
    "bench_female_ca01_score = accuracy_score(y_true, bench_female_ca01)\n",
    "print('Benchmark Accuracy -- All female OR age <= 15 survived: {:.3f}'.format(bench_female_ca01_score))"
   ]
  },
  {
   "cell_type": "markdown",
   "metadata": {},
   "source": [
    "Accuracy to beat: 0.795"
   ]
  },
  {
   "cell_type": "markdown",
   "metadata": {},
   "source": [
    "# Model Development\n",
    "\n",
    "## Preparation\n",
    "\n",
    "Split the data into training and test set"
   ]
  },
  {
   "cell_type": "code",
   "execution_count": 6,
   "metadata": {},
   "outputs": [],
   "source": [
    "X = df.drop('Survived', axis=1).values\n",
    "y = df['Survived'].values\n",
    "X_train, X_test, y_train, y_test = train_test_split(X, y)"
   ]
  },
  {
   "cell_type": "markdown",
   "metadata": {},
   "source": [
    "## Model: Logistic Regression\n",
    "\n",
    "* Simple linear model\n",
    "* Fast and efficient to compute\n",
    "* Suitable for classifying targets with only two possibilities"
   ]
  },
  {
   "cell_type": "code",
   "execution_count": 7,
   "metadata": {},
   "outputs": [
    {
     "name": "stdout",
     "output_type": "stream",
     "text": [
      "Accuracy: 0.827 (+/- 0.060)\n"
     ]
    }
   ],
   "source": [
    "from sklearn.linear_model import LogisticRegression\n",
    "\n",
    "clf_lr = LogisticRegression()\n",
    "scores = cross_val_score(clf_lr, X, y, cv=10)\n",
    "print(\"Accuracy: %0.3f (+/- %0.3f)\" % (scores.mean(), scores.std() * 2))"
   ]
  },
  {
   "cell_type": "markdown",
   "metadata": {},
   "source": [
    "## Model: Decision Tree\n",
    "\n",
    "* Able to capture non-linearity in the data"
   ]
  },
  {
   "cell_type": "code",
   "execution_count": 8,
   "metadata": {},
   "outputs": [
    {
     "data": {
      "image/png": "[encoded data removed]",
      "text/plain": [
       "<matplotlib.figure.Figure at 0x20a3f58eb00>"
      ]
     },
     "metadata": {},
     "output_type": "display_data"
    }
   ],
   "source": [
    "from sklearn.tree import DecisionTreeClassifier\n",
    "\n",
    "clf_df = DecisionTreeClassifier().fit(X, y)\n",
    "features = np.array(df.drop('Survived', axis=1).columns)\n",
    "importances = clf_df.feature_importances_\n",
    "\n",
    "feature_importances = pd.DataFrame(importances, index=features, columns=['weighting'])\n",
    "feature_importances = feature_importances.sort_values(by='weighting', ascending=False)\n",
    "\n",
    "feature_importances.plot(kind='bar')\n",
    "_ = plt.title('Feature Importance')"
   ]
  },
  {
   "cell_type": "code",
   "execution_count": 9,
   "metadata": {},
   "outputs": [
    {
     "name": "stdout",
     "output_type": "stream",
     "text": [
      "Accuracy: 0.803 (+/- 0.082)\n"
     ]
    }
   ],
   "source": [
    "clf_dt = DecisionTreeClassifier()\n",
    "scores = cross_val_score(clf_dt, X, y, cv=10)\n",
    "print(\"Accuracy: %0.3f (+/- %0.3f)\" % (scores.mean(), scores.std() * 2))"
   ]
  },
  {
   "cell_type": "markdown",
   "metadata": {},
   "source": [
    "## Model: Random Forest\n",
    "\n",
    "* Reduces overfitting in decision tree models"
   ]
  },
  {
   "cell_type": "code",
   "execution_count": 10,
   "metadata": {},
   "outputs": [
    {
     "data": {
      "image/png": "[encoded data removed]",
      "text/plain": [
       "<matplotlib.figure.Figure at 0x20a417978d0>"
      ]
     },
     "metadata": {},
     "output_type": "display_data"
    }
   ],
   "source": [
    "from sklearn.ensemble import RandomForestClassifier\n",
    "\n",
    "clf_rf = RandomForestClassifier().fit(X, y)\n",
    "features = np.array(df.drop('Survived', axis=1).columns)\n",
    "importances = clf_rf.feature_importances_\n",
    "\n",
    "feature_importances = pd.DataFrame(importances, index=features, columns=['weighting'])\n",
    "feature_importances = feature_importances.sort_values(by='weighting', ascending=False)\n",
    "\n",
    "feature_importances.plot(kind='bar')\n",
    "_ = plt.title('Feature Importance')"
   ]
  },
  {
   "cell_type": "code",
   "execution_count": 11,
   "metadata": {},
   "outputs": [
    {
     "name": "stdout",
     "output_type": "stream",
     "text": [
      "Accuracy: 0.808 (+/- 0.109)\n"
     ]
    }
   ],
   "source": [
    "clf_rf = RandomForestClassifier()\n",
    "scores = cross_val_score(clf_rf, X, y, cv=10)\n",
    "print(\"Accuracy: %0.3f (+/- %0.3f)\" % (scores.mean(), scores.std() * 2))"
   ]
  },
  {
   "cell_type": "markdown",
   "metadata": {},
   "source": [
    "### Hyperparameter Tuning\n",
    "\n",
    "#### Tree Depth"
   ]
  },
  {
   "cell_type": "code",
   "execution_count": 12,
   "metadata": {},
   "outputs": [
    {
     "name": "stdout",
     "output_type": "stream",
     "text": [
      "max_depth: 1 Accuracy: 0.690 (+/- 0.10)\n",
      "max_depth: 2 Accuracy: 0.798 (+/- 0.02)\n",
      "max_depth: 4 Accuracy: 0.809 (+/- 0.04)\n",
      "max_depth: 8 Accuracy: 0.814 (+/- 0.05)\n",
      "max_depth: 16 Accuracy: 0.800 (+/- 0.03)\n",
      "max_depth: 32 Accuracy: 0.818 (+/- 0.03)\n"
     ]
    }
   ],
   "source": [
    "depths = np.array([1, 2, 4, 8, 16, 32])\n",
    "acc = []\n",
    "\n",
    "for d in depths:\n",
    "    clf_rf = RandomForestClassifier(max_depth=d)\n",
    "    scores = cross_val_score(clf_rf, X, y, cv=3)\n",
    "    print(\"max_depth: {} Accuracy: {:.3f} (+/- {:.2f})\".format(d, scores.mean(), scores.std() * 2))\n",
    "    acc.append(scores.mean())"
   ]
  },
  {
   "cell_type": "code",
   "execution_count": 13,
   "metadata": {},
   "outputs": [
    {
     "data": {
      "image/png": "[encoded data removed]",
      "text/plain": [
       "<matplotlib.figure.Figure at 0x20a41826748>"
      ]
     },
     "metadata": {},
     "output_type": "display_data"
    }
   ],
   "source": [
    "plt.plot(depths, acc)\n",
    "_ = plt.title('Model accuracy against tree depth')"
   ]
  },
  {
   "cell_type": "markdown",
   "metadata": {},
   "source": [
    "Figure above shows the underfitting and overfitting regions and can be used to identify the optimal parameter."
   ]
  },
  {
   "cell_type": "markdown",
   "metadata": {},
   "source": [
    "### Grid Search\n",
    "\n",
    "Grid Search can be used to find the optimal parameters"
   ]
  },
  {
   "cell_type": "code",
   "execution_count": 14,
   "metadata": {},
   "outputs": [
    {
     "data": {
      "text/plain": [
       "RandomForestClassifier(bootstrap=True, class_weight=None, criterion='gini',\n",
       "            max_depth=8, max_features=12, max_leaf_nodes=None,\n",
       "            min_impurity_split=1e-07, min_samples_leaf=1,\n",
       "            min_samples_split=2, min_weight_fraction_leaf=0.0,\n",
       "            n_estimators=16, n_jobs=1, oob_score=False, random_state=None,\n",
       "            verbose=0, warm_start=False)"
      ]
     },
     "execution_count": 14,
     "metadata": {},
     "output_type": "execute_result"
    }
   ],
   "source": [
    "parm = {'n_estimators':[2, 4, 8, 16, 32],\n",
    "        'max_features':[2, 4, 8, len(features)],\n",
    "        'max_depth':[2, 4, 8, 16, 32]}\n",
    "\n",
    "clf_rf = RandomForestClassifier()\n",
    "clf = GridSearchCV(clf_rf, parm, cv=5).fit(X_train, y_train)\n",
    "clf.best_estimator_"
   ]
  },
  {
   "cell_type": "code",
   "execution_count": 15,
   "metadata": {},
   "outputs": [
    {
     "name": "stdout",
     "output_type": "stream",
     "text": [
      "Best Score: 0.8263\n"
     ]
    }
   ],
   "source": [
    "# Best model accuracy\n",
    "print('Best Score: {:.4f}'.format(clf.best_score_))"
   ]
  },
  {
   "cell_type": "code",
   "execution_count": 16,
   "metadata": {},
   "outputs": [
    {
     "data": {
      "text/plain": [
       "{'max_depth': 8, 'max_features': 12, 'n_estimators': 16}"
      ]
     },
     "execution_count": 16,
     "metadata": {},
     "output_type": "execute_result"
    }
   ],
   "source": [
    "# Best parameters\n",
    "clf.best_params_"
   ]
  },
  {
   "cell_type": "code",
   "execution_count": 17,
   "metadata": {},
   "outputs": [
    {
     "name": "stdout",
     "output_type": "stream",
     "text": [
      "Accuracy: 0.8350 (+/- 0.10)\n"
     ]
    }
   ],
   "source": [
    "# param = {'max_depth': 4, 'max_features': 4, 'n_estimators': 16}\n",
    "clf_rf = RandomForestClassifier(max_depth=8, max_features=8, n_estimators=32)\n",
    "scores = cross_val_score(clf_rf, X, y, cv=10)\n",
    "print(\"Accuracy: %0.4f (+/- %0.2f)\" % (scores.mean(), scores.std() * 2))"
   ]
  },
  {
   "cell_type": "markdown",
   "metadata": {},
   "source": [
    "## Conclusion\n",
    "\n",
    "The final Random Forest model has higher accuracy score than the benchmark models, but the Logistic Regression model is simplier and might generalize better. There's so much can be done to further increase the accuracy of the model, for example:\n",
    "\n",
    "* Reduce model complexity by using fewer features\n",
    "* Bin the non-linear features - improve the fitting in linear models\n",
    "\n",
    "Thanks for reading!"
   ]
  }
 ],
 "metadata": {
  "kernelspec": {
   "display_name": "Python [conda root]",
   "language": "python",
   "name": "conda-root-py"
  },
  "language_info": {
   "codemirror_mode": {
    "name": "ipython",
    "version": 3
   },
   "file_extension": ".py",
   "mimetype": "text/x-python",
   "name": "python",
   "nbconvert_exporter": "python",
   "pygments_lexer": "ipython3",
   "version": "3.5.3"
  }
 },
 "nbformat": 4,
 "nbformat_minor": 2
}
